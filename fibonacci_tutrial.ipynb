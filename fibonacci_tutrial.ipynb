{
 "cells": [
  {
   "cell_type": "markdown",
   "metadata": {},
   "source": [
    "# フィボナッチ数の課題をゆっくりやります\n",
    "$n$番目のフィボナッチ数を$F(n)$で表す。\n",
    "この時の関数$F(n)$を`def fib(n):`に続けて実装してみてください。\n",
    "ただし$$F(0) = 0, F(1) = 1, F(n) = F(n-1) + F(n-2) (n >= 2)$$とします。\n",
    "最初は自分の頭で考えてみて，5分～15分考えてわからなければ検索・相談しましょう。\n",
    "なるべく処理が早いほうがいい。\n",
    "n=2018のときいくつか。\n"
   ]
  },
  {
   "cell_type": "markdown",
   "metadata": {},
   "source": [
    "まず，$F(10)$までを手計算で計算して見ましょう。\n",
    "次に，それをプログラミングしてみましょう。"
   ]
  },
  {
   "cell_type": "code",
   "execution_count": null,
   "metadata": {},
   "outputs": [],
   "source": [
    "a_0 = 0\n",
    "a_1 = 1\n",
    "a_2 = a_1 + a_0\n",
    "a_3 = a_2 + a_1\n",
    "a_4 = a_3 + a_2\n",
    "a_5 = a_4 + a_3\n",
    "a_6 = a_5 + a_4\n",
    "a_7 = a_6 + a_5\n",
    "a_8 = a_7 + a_6\n",
    "a_9 = a_8 + a_7\n",
    "a_10 = a_9 + a_8\n",
    "\n",
    "print(a_10)"
   ]
  },
  {
   "cell_type": "markdown",
   "metadata": {},
   "source": [
    "繰り返し部分をforループで書いてみましょう。"
   ]
  },
  {
   "cell_type": "code",
   "execution_count": null,
   "metadata": {},
   "outputs": [],
   "source": [
    "# range関数がどのような出力なのか確認\n",
    "print(list(range(10)))\n",
    "print(list(range(2, 11)))"
   ]
  },
  {
   "cell_type": "code",
   "execution_count": null,
   "metadata": {
    "scrolled": true
   },
   "outputs": [],
   "source": [
    "a_0 = 0\n",
    "a_1 = 1\n",
    "\n",
    "x = a_0\n",
    "y = a_1\n",
    "z = x + y\n",
    "a_2 = z\n",
    "print(a_2)\n",
    "\n",
    "for i in range(3,11):\n",
    "    x = y\n",
    "    y = z\n",
    "    z = x + y\n",
    "    print(z)\n"
   ]
  },
  {
   "cell_type": "markdown",
   "metadata": {},
   "source": [
    "nまで計算できるように編集してみましょう。\n"
   ]
  },
  {
   "cell_type": "code",
   "execution_count": null,
   "metadata": {},
   "outputs": [],
   "source": [
    "#ここにプログラムを書く"
   ]
  },
  {
   "cell_type": "markdown",
   "metadata": {},
   "source": [
    "defを使って関数にしてみましょう。"
   ]
  },
  {
   "cell_type": "code",
   "execution_count": 2,
   "metadata": {},
   "outputs": [
    {
     "name": "stdout",
     "output_type": "stream",
     "text": [
      "f( 3 )= 2\n",
      "f( 4 )= 3\n",
      "f( 5 )= 5\n",
      "f( 6 )= 8\n",
      "f( 7 )= 13\n",
      "f( 8 )= 21\n",
      "f( 9 )= 34\n",
      "f( 10 )= 55\n",
      "fib( 10 )= 55\n"
     ]
    }
   ],
   "source": [
    "def fib(n):\n",
    "    a_0 = 0\n",
    "    a_1 = 1\n",
    "\n",
    "    x = a_0\n",
    "    y = a_1\n",
    "    z = x + y\n",
    "\n",
    "    for i in range(3,n+1):\n",
    "        x = y\n",
    "        y = z\n",
    "        z = x + y\n",
    "        print(\"f(\",i,\")=\",z)\n",
    "    \n",
    "    a_n = z\n",
    "    return a_n\n",
    "\n",
    "n = 10\n",
    "print(\"fib(\",n,\")=\",fib(n))"
   ]
  },
  {
   "cell_type": "markdown",
   "metadata": {},
   "source": [
    "リストを使ってやってみましょう"
   ]
  },
  {
   "cell_type": "code",
   "execution_count": null,
   "metadata": {},
   "outputs": [],
   "source": [
    "def fib_list(n):\n",
    "    result = [0, 1]\n",
    "    for i in range(2,n+1):\n",
    "        result.append(result[-1] + result[-2])\n",
    "    return result\n",
    "\n",
    "print(fib_list(10))"
   ]
  },
  {
   "cell_type": "markdown",
   "metadata": {},
   "source": [
    "$m$以下で最大のフィボナッチ数の$n$を求める関数を`argfib(m)`という名前でつくる\n",
    "m=2018のときいくつか。"
   ]
  },
  {
   "cell_type": "markdown",
   "metadata": {},
   "source": [
    "まずは先ほど作った関数を用いてwhileループを使ってやってみましょう。"
   ]
  },
  {
   "cell_type": "code",
   "execution_count": 3,
   "metadata": {},
   "outputs": [
    {
     "name": "stdout",
     "output_type": "stream",
     "text": [
      "2 1\n",
      "f( 3 )= 2\n",
      "3 2\n",
      "f( 3 )= 2\n",
      "f( 4 )= 3\n",
      "4 3\n",
      "f( 3 )= 2\n",
      "f( 4 )= 3\n",
      "f( 5 )= 5\n",
      "5 5\n",
      "f( 3 )= 2\n",
      "f( 4 )= 3\n",
      "f( 5 )= 5\n",
      "f( 6 )= 8\n",
      "6 8\n",
      "f( 3 )= 2\n",
      "f( 4 )= 3\n",
      "f( 5 )= 5\n",
      "f( 6 )= 8\n",
      "f( 7 )= 13\n",
      "7 13\n",
      "f( 3 )= 2\n",
      "f( 4 )= 3\n",
      "f( 5 )= 5\n",
      "f( 6 )= 8\n",
      "f( 7 )= 13\n",
      "f( 8 )= 21\n",
      "8 21\n",
      "f( 3 )= 2\n",
      "f( 4 )= 3\n",
      "f( 5 )= 5\n",
      "f( 6 )= 8\n",
      "f( 7 )= 13\n",
      "f( 8 )= 21\n",
      "f( 9 )= 34\n",
      "9 34\n",
      "f( 3 )= 2\n",
      "f( 4 )= 3\n",
      "f( 5 )= 5\n",
      "f( 6 )= 8\n",
      "f( 7 )= 13\n",
      "f( 8 )= 21\n",
      "f( 9 )= 34\n",
      "f( 10 )= 55\n",
      "10 55\n",
      "f( 3 )= 2\n",
      "f( 4 )= 3\n",
      "f( 5 )= 5\n",
      "f( 6 )= 8\n",
      "f( 7 )= 13\n",
      "f( 8 )= 21\n",
      "f( 9 )= 34\n",
      "f( 10 )= 55\n",
      "f( 11 )= 89\n",
      "11 89\n",
      "f( 3 )= 2\n",
      "f( 4 )= 3\n",
      "f( 5 )= 5\n",
      "f( 6 )= 8\n",
      "f( 7 )= 13\n",
      "f( 8 )= 21\n",
      "f( 9 )= 34\n",
      "f( 10 )= 55\n",
      "f( 11 )= 89\n",
      "f( 12 )= 144\n",
      "12 144\n"
     ]
    }
   ],
   "source": [
    "m = 100\n",
    "i = 2\n",
    "a_i = 1 + 0\n",
    "while a_i<=m:\n",
    "    #ここにプログラムを書く\n",
    "    a_i = fib(i)\n",
    "    print(i,a_i)\n",
    "    i = i + 1"
   ]
  },
  {
   "cell_type": "markdown",
   "metadata": {},
   "source": [
    "他の書き方もやってみましょう。"
   ]
  }
 ],
 "metadata": {
  "kernelspec": {
   "display_name": "Python 3",
   "language": "python",
   "name": "python3"
  }
 },
 "nbformat": 4,
 "nbformat_minor": 2
}
